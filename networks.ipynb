{
 "cells": [
  {
   "cell_type": "markdown",
   "metadata": {},
   "source": [
    "# Network diagrams for NL/GQL"
   ]
  },
  {
   "cell_type": "code",
   "execution_count": null,
   "metadata": {},
   "outputs": [],
   "source": [
    "import numpy as np\n",
    "\n",
    "import matplotlib as mpl\n",
    "import matplotlib.pyplot as plt\n",
    "\n",
    "import networkx as nwkx\n",
    "import collections"
   ]
  },
  {
   "cell_type": "code",
   "execution_count": null,
   "metadata": {},
   "outputs": [],
   "source": [
    "# get all modes in an nx-ny grid\n",
    "def modes(nx,ny):\n",
    "        \n",
    "    i = 0\n",
    "    x = []\n",
    "    for p in np.arange(-nx,nx+1):\n",
    "        for q in np.arange(-ny,ny+1):\n",
    "\n",
    "            x.append((p,q))\n",
    "            i += 1\n",
    "    \n",
    "    return x\n",
    "\n",
    "# get all triads in an nx-ny grid\n",
    "def triads(nx,ny):\n",
    "        \n",
    "    x = []\n",
    "    for p in modes(nx,ny):\n",
    "        for q in modes(nx,ny):\n",
    "                        \n",
    "            k = (p[0]+q[0],p[1]+q[1])\n",
    "            \n",
    "            if not(k[0]==0 and k[1]==0) and not(p[0]==0 and p[1]==0) and not(q[0]==0 and q[1]==0): # non-zeros\n",
    "          \n",
    "                if np.abs(k[0])<=nx and np.abs(k[1])<=ny: # remove out of bounds\n",
    "                   \n",
    "                    if p != q and q != k: # no self-interactions\n",
    "                    \n",
    "                        x.append((p,q,k)) # pxq -> k\n",
    "    \n",
    "    return x\n",
    "\n",
    "# list edges between modes and triads\n",
    "def edges(nx,ny,A):\n",
    "        \n",
    "    m = modes(nx,ny)\n",
    "    \n",
    "    e = []\n",
    "    for t in triads(nx,ny):\n",
    "        \n",
    "        i = m.index(t[0])\n",
    "        j = m.index(t[1])\n",
    "        \n",
    "        if(A[i,j] > 0.0):\n",
    "            e.append((t[0],t))\n",
    "            e.append((t[1],t))\n",
    "            e.append((t[2],t))\n",
    "    \n",
    "    \n",
    "    return e\n",
    "\n",
    "# network graph using modes,edges,triads\n",
    "def graph(nx,ny,A):\n",
    "\n",
    "    m = modes(nx,ny)\n",
    "    m.remove((0,0))\n",
    "\n",
    "    t = triads(nx,ny)\n",
    "    e = edges(nx,ny,A)\n",
    "\n",
    "    bpg=nwkx.Graph()\n",
    "\n",
    "    bpg.add_nodes_from(m,bipartite=0)\n",
    "    bpg.add_nodes_from(t,bipartite=1)\n",
    "    bpg.add_edges_from(e)\n",
    "\n",
    "    dl = list(nwkx.connected_components(bpg))[1:]\n",
    "    for d in dl:\n",
    "        for n in d:\n",
    "            bpg.remove_node(n)\n",
    "\n",
    "    return bpg\n",
    "\n",
    "# degree distribution on mode set f of graph G\n",
    "def degreedist(f,G):\n",
    "    \n",
    "    d = G.degree(f) \n",
    "    v = sorted([d[1] for d in d])\n",
    "    h = [v.count(x) for x in v]\n",
    "\n",
    "    return v,h\n",
    "\n",
    "# Diagnostics\n",
    "\n",
    "# print(modes(1,1))\n",
    "# print(len(triads(1,1)))\n",
    "# print(triads(1,1))\n",
    "# ((0,1),(0,-1),(0,0)) in triads(1,1)\n",
    "\n",
    "# m = modes(1,1)[3]\n",
    "\n",
    "# print(\"Looking for mode: \", m)\n",
    "\n",
    "# for t in triads(1,1):\n",
    "#     if(m in t):\n",
    "#         print(\"Present in triad:\", t)\n",
    "\n",
    "# A = np.zeros((9,9))\n",
    "# A[2,3] = 1.0\n",
    "# e = edges(1,1,A)\n",
    "\n",
    "# print(e)"
   ]
  },
  {
   "cell_type": "code",
   "execution_count": null,
   "metadata": {},
   "outputs": [],
   "source": [
    "# set positions of modes in network\n",
    "def nodepos(G):\n",
    "    \n",
    "    l, r = nwkx.bipartite.sets(G)\n",
    "    pos = {}\n",
    "\n",
    "    pos.update((node, (0, index)) for index, node in enumerate(l))\n",
    "    pos.update((node, (1, index)) for index, node in enumerate(r))\n",
    "\n",
    "    return pos\n",
    "\n",
    "# draw adjacencies with ticks\n",
    "def ax_adj(ax,nx,ny):\n",
    "    \n",
    "    l = []\n",
    "    for m in modes(nx,ny):\n",
    "        l.append(str(m))\n",
    "    \n",
    "    ax.set_xticks(np.arange(0,(2*nx+1)*(2*ny+1),1))\n",
    "    ax.set_yticks(np.arange(0,(2*nx+1)*(2*ny+1),1))\n",
    "    ax.set_xticklabels(l,fontsize=14)\n",
    "    ax.set_yticklabels(l,fontsize=14)\n",
    "    \n",
    "# Graph diagnostics\n",
    "\n",
    "# A = np.ones((9,9))\n",
    "# G = graph(1,1,A)\n",
    "# f,g = nwkx.bipartite.sets(G)\n",
    "\n",
    "# pos = nodepos(G)\n",
    "\n",
    "# fig,ax = plt.subplots(figsize=(5,5))\n",
    "# nwkx.draw(G,pos=pos,node_size=25,with_labels=True,width=0.75)\n",
    "# plt.show()\n",
    "\n",
    "# fig,ax = plt.subplots(1,2,figsize=(9,4))\n",
    "\n",
    "# mdegs = G.degree(f) # dictionary node:degree \n",
    "# mvals = sorted([d[1] for d in mdegs])\n",
    "# mhist = [mvals.count(x) for x in mvals]\n",
    "# ax[0].plot(mvals,mhist,'o-')\n",
    "# ax[0].set_xlabel('Degree')\n",
    "# ax[0].set_ylabel('Number of modes')\n",
    "\n",
    "# mdegs = G.degree(g) # dictionary node:degree \n",
    "# mvals = sorted([d[1] for d in mdegs])\n",
    "# mhist = [mvals.count(x) for x in mvals]\n",
    "# ax[1].plot(mvals,mhist,'o-')\n",
    "# ax[1].set_xlabel('Degree')\n",
    "# ax[1].set_ylabel('Number of triads')\n",
    "\n",
    "# plt.show()"
   ]
  },
  {
   "cell_type": "code",
   "execution_count": null,
   "metadata": {},
   "outputs": [],
   "source": [
    "dn = \"data/\""
   ]
  },
  {
   "cell_type": "markdown",
   "metadata": {},
   "source": [
    "## 2x2 Grids"
   ]
  },
  {
   "cell_type": "code",
   "execution_count": null,
   "metadata": {},
   "outputs": [],
   "source": [
    "nx,ny = 2,2\n",
    "\n",
    "# NL\n",
    "fn = dn+\"adjacency_nl_2x2.npz\"\n",
    "nl = np.load(fn,allow_pickle=True) \n",
    "# QL\n",
    "fn = dn+\"adjacency_ql_2x2.npz\"\n",
    "ql = np.load(fn,allow_pickle=True)"
   ]
  },
  {
   "cell_type": "markdown",
   "metadata": {},
   "source": [
    "### 2x2 NL"
   ]
  },
  {
   "cell_type": "code",
   "execution_count": null,
   "metadata": {},
   "outputs": [],
   "source": [
    "fig,ax = plt.subplots(1,2,figsize=(12,4))\n",
    "\n",
    "im = ax[0].imshow(np.abs(nl['B']),cmap=\"Reds\",origin=\"lower\",interpolation=\"none\")\n",
    "fig.colorbar(im,ax=ax[0])\n",
    "ax[0].set_title(r'$|B_{mn}|$',fontsize=15)\n",
    "ax_adj(ax[0],nx-1,ny-1)\n",
    "\n",
    "im = ax[1].imshow(np.angle(nl['B']),cmap=\"RdBu_r\",origin=\"lower\",interpolation=\"none\")\n",
    "fig.colorbar(im,ax=ax[1])\n",
    "ax[1].set_title(r'$\\angle B_{mn}$',fontsize=15)\n",
    "ax_adj(ax[1],nx-1,ny-1)\n",
    "\n",
    "plt.show()"
   ]
  },
  {
   "cell_type": "code",
   "execution_count": null,
   "metadata": {
    "scrolled": true
   },
   "outputs": [],
   "source": [
    "fig,ax = plt.subplots(1,2,figsize=(12,4))\n",
    "\n",
    "im = ax[0].imshow(np.abs(nl['B']),cmap=\"Reds\",origin=\"lower\",interpolation=\"none\")\n",
    "fig.colorbar(im,ax=ax[0])\n",
    "ax[0].set_title(r'$|B_{mn}|$',fontsize=15)\n",
    "ax_adj(ax[0],nx-1,ny-1)\n",
    "\n",
    "im = ax[1].imshow(np.angle(nl['B']),cmap=\"RdBu_r\",origin=\"lower\",interpolation=\"none\")\n",
    "fig.colorbar(im,ax=ax[1])\n",
    "ax[1].set_title(r'$\\angle B_{mn}$',fontsize=15)\n",
    "ax_adj(ax[1],nx-1,ny-1)\n",
    "\n",
    "plt.show()"
   ]
  },
  {
   "cell_type": "code",
   "execution_count": null,
   "metadata": {
    "scrolled": true
   },
   "outputs": [],
   "source": [
    "fig,ax = plt.subplots(1,2,figsize=(12,4))\n",
    "\n",
    "im = ax[0].imshow(np.abs(nl['C']),cmap=\"Reds\",origin=\"lower\",interpolation=\"none\",norm=mpl.colors.LogNorm())\n",
    "ax[0].set_title(r'$|C_{mn}|$',fontsize=15)\n",
    "fig.colorbar(im,ax=ax[0])\n",
    "ax_adj(ax[0],nx-1,ny-1)\n",
    "\n",
    "im = ax[1].imshow(np.angle(nl['C']),cmap=\"RdBu_r\",origin=\"lower\",interpolation=\"none\")\n",
    "ax[1].set_title(r'$\\angle C_{mn}$',fontsize=15)\n",
    "fig.colorbar(im,ax=ax[1])\n",
    "ax_adj(ax[1],nx-1,ny-1)\n",
    "\n",
    "plt.show()"
   ]
  },
  {
   "cell_type": "code",
   "execution_count": null,
   "metadata": {},
   "outputs": [],
   "source": [
    "# draw graph\n",
    "G = graph(nx-1,ny-1,nl['C'])\n",
    "\n",
    "fig,ax = plt.subplots(figsize=(6,6))\n",
    "nwkx.draw(G,pos=nodepos(G),node_size=25,with_labels=True,width=0.75)\n",
    "plt.show()"
   ]
  },
  {
   "cell_type": "markdown",
   "metadata": {},
   "source": [
    "### 2x2 QL"
   ]
  },
  {
   "cell_type": "code",
   "execution_count": null,
   "metadata": {},
   "outputs": [],
   "source": [
    "fig,ax = plt.subplots(1,2,figsize=(12,4))\n",
    "\n",
    "im = ax[0].imshow(np.abs(ql['B']),cmap=\"Reds\",origin=\"lower\",interpolation=\"none\")\n",
    "fig.colorbar(im,ax=ax[0])\n",
    "ax[0].set_title(r'$|B_{mn}|$',fontsize=15)\n",
    "ax_adj(ax[0],nx-1,ny-1)\n",
    "\n",
    "im = ax[1].imshow(np.angle(ql['B']),cmap=\"RdBu_r\",origin=\"lower\",interpolation=\"none\")\n",
    "fig.colorbar(im,ax=ax[1])\n",
    "ax[1].set_title(r'$\\angle B_{mn}$',fontsize=15)\n",
    "ax_adj(ax[1],nx-1,ny-1)\n",
    "\n",
    "plt.show()"
   ]
  },
  {
   "cell_type": "code",
   "execution_count": null,
   "metadata": {},
   "outputs": [],
   "source": [
    "fig,ax = plt.subplots(1,2,figsize=(12,4))\n",
    "\n",
    "im = ax[0].imshow(np.abs(ql['C']),cmap=\"Reds\",origin=\"lower\",interpolation=\"none\",norm=mpl.colors.LogNorm())\n",
    "ax[0].set_title(r'$|C_{mn}|$',fontsize=15)\n",
    "fig.colorbar(im,ax=ax[0])\n",
    "ax_adj(ax[0],nx-1,ny-1)\n",
    "\n",
    "im = ax[1].imshow(np.angle(ql['C']),cmap=\"RdBu_r\",origin=\"lower\",interpolation=\"none\")\n",
    "ax[1].set_title(r'$\\angle C_{mn}$',fontsize=15)\n",
    "fig.colorbar(im,ax=ax[1])\n",
    "ax_adj(ax[1],nx-1,ny-1)\n",
    "\n",
    "plt.show()"
   ]
  },
  {
   "cell_type": "code",
   "execution_count": null,
   "metadata": {},
   "outputs": [],
   "source": [
    "# draw graph\n",
    "G = graph(nx-1,ny-1,ql['C'])\n",
    "\n",
    "fig,ax = plt.subplots(figsize=(6,6))\n",
    "nwkx.draw(G,pos=nodepos(G),node_size=25,with_labels=True,width=0.75)\n",
    "plt.show()"
   ]
  },
  {
   "cell_type": "markdown",
   "metadata": {},
   "source": [
    "> I think QL and NL must match in this case."
   ]
  },
  {
   "cell_type": "markdown",
   "metadata": {},
   "source": [
    "## 3x3 Grid Tests"
   ]
  },
  {
   "cell_type": "code",
   "execution_count": null,
   "metadata": {},
   "outputs": [],
   "source": [
    "nx,ny = 3,3\n",
    "\n",
    "# NL\n",
    "fn = dn+\"adjacency_nl_3x3.npz\"\n",
    "nl = np.load(fn,allow_pickle=True) \n",
    "\n",
    "fn = dn+\"adjacency_ql_3x3.npz\"\n",
    "ql = np.load(fn,allow_pickle=True) \n",
    "\n",
    "fn = dn+\"adjacency_gql1_3x3.npz\"\n",
    "gql = np.load(fn,allow_pickle=True) "
   ]
  },
  {
   "cell_type": "markdown",
   "metadata": {},
   "source": [
    "### Linear Terms"
   ]
  },
  {
   "cell_type": "code",
   "execution_count": null,
   "metadata": {},
   "outputs": [],
   "source": [
    "fig,ax = plt.subplots(1,3,figsize=(14,3))\n",
    "\n",
    "im = ax[0].imshow(np.abs(nl['B']),cmap=\"Reds\",origin=\"lower\",interpolation=\"none\")\n",
    "fig.colorbar(im,ax=ax[0])\n",
    "ax[0].set_title(r'$NL: |B_{mn}|$')\n",
    "ax_adj(ax[0],nx-1,ny-1)\n",
    "\n",
    "im = ax[1].imshow(np.abs(ql['B']),cmap=\"Reds\",origin=\"lower\",interpolation=\"none\")\n",
    "fig.colorbar(im,ax=ax[1])\n",
    "ax[1].set_title(r'QL: $| B_{mn} |$')\n",
    "ax_adj(ax[1],nx-1,ny-1)\n",
    "\n",
    "im = ax[2].imshow(np.abs(gql['B']),cmap=\"Reds\",origin=\"lower\",interpolation=\"none\")\n",
    "fig.colorbar(im,ax=ax[2])\n",
    "ax[2].set_title(r'GQL(1): $| B_{mn} |$')\n",
    "ax_adj(ax[2],nx-1,ny-1)\n",
    "\n",
    "plt.show()"
   ]
  },
  {
   "cell_type": "markdown",
   "metadata": {},
   "source": [
    "### Nonlinear terms"
   ]
  },
  {
   "cell_type": "code",
   "execution_count": null,
   "metadata": {},
   "outputs": [],
   "source": [
    "fig,ax = plt.subplots(1,3,figsize=(14,3))\n",
    "\n",
    "im = ax[0].imshow(np.abs(nl['C']),cmap=\"Reds\",origin=\"lower\",interpolation=\"none\")\n",
    "fig.colorbar(im,ax=ax[0])\n",
    "ax[0].set_title(r'$NL: |C_{mn}|$')\n",
    "ax_adj(ax[0],nx-1,ny-1)\n",
    "\n",
    "im = ax[1].imshow(np.abs(ql['C']),cmap=\"Reds\",origin=\"lower\",interpolation=\"none\")\n",
    "fig.colorbar(im,ax=ax[1])\n",
    "ax[1].set_title(r'QL: $| C_{mn} |$')\n",
    "ax_adj(ax[1],nx-1,ny-1)\n",
    "\n",
    "im = ax[2].imshow(np.abs(gql['C']),cmap=\"Reds\",origin=\"lower\",interpolation=\"none\")\n",
    "fig.colorbar(im,ax=ax[2])\n",
    "ax[2].set_title(r'GQL(1): $| C_{mn} |$')\n",
    "ax_adj(ax[2],nx-1,ny-1)\n",
    "\n",
    "plt.show()"
   ]
  },
  {
   "cell_type": "markdown",
   "metadata": {},
   "source": [
    "> here GQL(1) looks identical to QL for some reason. This can happen sometmes."
   ]
  },
  {
   "cell_type": "code",
   "execution_count": null,
   "metadata": {},
   "outputs": [],
   "source": [
    "fig,ax = plt.subplots(1,3,figsize=(14,3))\n",
    "\n",
    "im = ax[0].imshow(np.angle(nl['C']),cmap=\"RdBu_r\",origin=\"lower\",interpolation=\"none\")\n",
    "fig.colorbar(im,ax=ax[0])\n",
    "ax[0].set_title(r'$NL: \\angle C_{mn}$')\n",
    "ax_adj(ax[0],nx-1,ny-1)\n",
    "\n",
    "im = ax[1].imshow(np.angle(ql['C']),cmap=\"RdBu_r\",origin=\"lower\",interpolation=\"none\")\n",
    "fig.colorbar(im,ax=ax[1])\n",
    "ax[1].set_title(r'QL: $\\angle C_{mn} $')\n",
    "ax_adj(ax[1],nx-1,ny-1)\n",
    "\n",
    "im = ax[2].imshow(np.angle(gql['C']),cmap=\"RdBu_r\",origin=\"lower\",interpolation=\"none\")\n",
    "fig.colorbar(im,ax=ax[2])\n",
    "ax[2].set_title(r'GQL(1): $\\angle C_{mn} $')\n",
    "ax_adj(ax[2],nx-1,ny-1)\n",
    "\n",
    "plt.show()"
   ]
  },
  {
   "cell_type": "markdown",
   "metadata": {},
   "source": [
    "### Networks"
   ]
  },
  {
   "cell_type": "code",
   "execution_count": null,
   "metadata": {},
   "outputs": [],
   "source": [
    "# draw graph\n",
    "G1 = graph(nx-1,ny-1,nl['C'])\n",
    "G2 = graph(nx-1,ny-1,ql['C'])\n",
    "G3 = graph(nx-1,ny-1,gql['C'])\n",
    "\n",
    "f1,g1 = nwkx.bipartite.sets(G1)\n",
    "f2,g2 = nwkx.bipartite.sets(G2)\n",
    "f3,g3 = nwkx.bipartite.sets(G3)"
   ]
  },
  {
   "cell_type": "code",
   "execution_count": null,
   "metadata": {},
   "outputs": [],
   "source": [
    "fig,ax = plt.subplots(1,3,figsize=(15,4))\n",
    "\n",
    "ax[0].set_title('NL')\n",
    "nwkx.draw(G1,pos=nodepos(G1),node_size=25,with_labels=False,width=0.75,ax=ax[0])\n",
    "\n",
    "ax[1].set_title('QL')\n",
    "nwkx.draw(G2,pos=nodepos(G2),node_size=25,with_labels=False,width=0.75,ax=ax[1])\n",
    "\n",
    "ax[2].set_title('GQL(1)')\n",
    "nwkx.draw(G3,pos=nodepos(G3),node_size=25,with_labels=False,width=0.75,ax=ax[2])\n",
    "\n",
    "plt.show()"
   ]
  },
  {
   "cell_type": "markdown",
   "metadata": {},
   "source": [
    "> Double check why QL and GQL(1) are identical "
   ]
  },
  {
   "cell_type": "code",
   "execution_count": null,
   "metadata": {},
   "outputs": [],
   "source": [
    "fig,ax = plt.subplots(1,3,figsize=(10,3))\n",
    "\n",
    "vf,hf = degreedist(f1,G1)\n",
    "ax[0].plot(vf,hf,'o-')\n",
    "ax[0].set_title('NL')\n",
    "\n",
    "vf,hf = degreedist(f2,G2)\n",
    "ax[1].plot(vf,hf,'o-')\n",
    "ax[1].set_title('QL')\n",
    "\n",
    "vf,hf = degreedist(f3,G3)\n",
    "ax[2].plot(vf,hf,'o-')\n",
    "ax[2].set_title('GQL(1)')\n",
    "\n",
    "ax[0].set_xlabel('Degree')\n",
    "ax[0].set_ylabel('Number of modes')\n",
    "\n",
    "plt.show()"
   ]
  },
  {
   "cell_type": "code",
   "execution_count": null,
   "metadata": {},
   "outputs": [],
   "source": [
    "fig,ax = plt.subplots(1,3,figsize=(10,3))\n",
    "\n",
    "vf,hf = degreedist(g1,G1)\n",
    "ax[0].plot(vf,hf,'o-')\n",
    "ax[0].set_title('NL')\n",
    "\n",
    "vf,hf = degreedist(g2,G2)\n",
    "ax[1].plot(vf,hf,'o-')\n",
    "ax[1].set_title('QL')\n",
    "\n",
    "vf,hf = degreedist(g3,G3)\n",
    "ax[2].plot(vf,hf,'o-')\n",
    "ax[2].set_title('GQL(1)')\n",
    "\n",
    "ax[0].set_xlabel('Degree')\n",
    "ax[0].set_ylabel('Number of triads')\n",
    "\n",
    "plt.show()"
   ]
  },
  {
   "cell_type": "markdown",
   "metadata": {},
   "source": [
    "## 6x6 grid tests"
   ]
  },
  {
   "cell_type": "code",
   "execution_count": null,
   "metadata": {},
   "outputs": [],
   "source": [
    "nx,ny = 6,6\n",
    "\n",
    "fn = dn+\"adjacency_nl_6x6.npz\"\n",
    "nl = np.load(fn,allow_pickle=True) \n",
    "\n",
    "fn = dn+\"adjacency_ql_6x6.npz\"\n",
    "ql = np.load(fn,allow_pickle=True) \n",
    "\n",
    "fn = dn+\"adjacency_gql1_6x6.npz\"\n",
    "gql = np.load(fn,allow_pickle=True) "
   ]
  },
  {
   "cell_type": "code",
   "execution_count": null,
   "metadata": {},
   "outputs": [],
   "source": [
    "fig,ax = plt.subplots(1,3,figsize=(14,3))\n",
    "\n",
    "im = ax[0].imshow(np.abs(nl['B']),cmap=\"Reds\",origin=\"lower\",interpolation=\"none\")\n",
    "fig.colorbar(im,ax=ax[0])\n",
    "ax[0].set_title(r'$NL: |B_{mn}|$')\n",
    "ax_adj(ax[0],nx-1,ny-1)\n",
    "\n",
    "im = ax[1].imshow(np.abs(ql['B']),cmap=\"Reds\",origin=\"lower\",interpolation=\"none\")\n",
    "fig.colorbar(im,ax=ax[1])\n",
    "ax[1].set_title(r'QL: $| B_{mn} |$')\n",
    "ax_adj(ax[1],nx-1,ny-1)\n",
    "\n",
    "im = ax[2].imshow(np.abs(gql['B']),cmap=\"Reds\",origin=\"lower\",interpolation=\"none\")\n",
    "fig.colorbar(im,ax=ax[2])\n",
    "ax[2].set_title(r'GQL(1): $| B_{mn} |$')\n",
    "ax_adj(ax[2],nx-1,ny-1)\n",
    "\n",
    "plt.show()"
   ]
  },
  {
   "cell_type": "code",
   "execution_count": null,
   "metadata": {},
   "outputs": [],
   "source": [
    "fig,ax = plt.subplots(1,3,figsize=(14,3))\n",
    "\n",
    "im = ax[0].imshow(np.abs(nl['C']),cmap=\"Reds\",origin=\"lower\",interpolation=\"none\")\n",
    "fig.colorbar(im,ax=ax[0])\n",
    "ax[0].set_title(r'$NL: |C_{mn}|$')\n",
    "ax_adj(ax[0],nx-1,ny-1)\n",
    "\n",
    "im = ax[1].imshow(np.abs(ql['C']),cmap=\"Reds\",origin=\"lower\",interpolation=\"none\")\n",
    "fig.colorbar(im,ax=ax[1])\n",
    "ax[1].set_title(r'QL: $| C_{mn} |$')\n",
    "ax_adj(ax[1],nx-1,ny-1)\n",
    "\n",
    "im = ax[2].imshow(np.abs(gql['C']),cmap=\"Reds\",origin=\"lower\",interpolation=\"none\")\n",
    "fig.colorbar(im,ax=ax[2])\n",
    "ax[2].set_title(r'GQL(1): $| C_{mn} |$')\n",
    "ax_adj(ax[2],nx-1,ny-1)\n",
    "\n",
    "plt.show()"
   ]
  },
  {
   "cell_type": "code",
   "execution_count": null,
   "metadata": {},
   "outputs": [],
   "source": [
    "fig,ax = plt.subplots(1,3,figsize=(14,3))\n",
    "\n",
    "im = ax[0].imshow(np.abs(nl['C']),cmap=\"Reds\",origin=\"lower\",interpolation=\"none\")\n",
    "fig.colorbar(im,ax=ax[0])\n",
    "ax[0].set_title(r'$NL: |C_{mn}|$')\n",
    "ax_adj(ax[0],nx-1,ny-1)\n",
    "\n",
    "im = ax[1].imshow(np.abs(ql['C']),cmap=\"Reds\",origin=\"lower\",interpolation=\"none\")\n",
    "fig.colorbar(im,ax=ax[1])\n",
    "ax[1].set_title(r'QL: $| C_{mn} |$')\n",
    "ax_adj(ax[1],nx-1,ny-1)\n",
    "\n",
    "im = ax[2].imshow(np.abs(gql['C']),cmap=\"Reds\",origin=\"lower\",interpolation=\"none\")\n",
    "fig.colorbar(im,ax=ax[2])\n",
    "ax[2].set_title(r'GQL(1): $| C_{mn} |$')\n",
    "ax_adj(ax[2],nx-1,ny-1)\n",
    "\n",
    "plt.show()"
   ]
  },
  {
   "cell_type": "markdown",
   "metadata": {},
   "source": [
    "> GQL(1) clearly is richer than QL "
   ]
  },
  {
   "cell_type": "code",
   "execution_count": null,
   "metadata": {},
   "outputs": [],
   "source": [
    "fig,ax = plt.subplots(1,3,figsize=(14,3))\n",
    "\n",
    "im = ax[0].imshow(np.angle(nl['C']),cmap=\"RdBu_r\",origin=\"lower\",interpolation=\"none\")\n",
    "fig.colorbar(im,ax=ax[0])\n",
    "ax[0].set_title(r'$NL: \\angle C_{mn}$')\n",
    "ax_adj(ax[0],nx-1,ny-1)\n",
    "\n",
    "im = ax[1].imshow(np.angle(ql['C']),cmap=\"RdBu_r\",origin=\"lower\",interpolation=\"none\")\n",
    "fig.colorbar(im,ax=ax[1])\n",
    "ax[1].set_title(r'QL: $\\angle C_{mn} $')\n",
    "ax_adj(ax[1],nx-1,ny-1)\n",
    "\n",
    "im = ax[2].imshow(np.angle(gql['C']),cmap=\"RdBu_r\",origin=\"lower\",interpolation=\"none\")\n",
    "fig.colorbar(im,ax=ax[2])\n",
    "ax[2].set_title(r'GQL(1): $\\angle C_{mn} $')\n",
    "ax_adj(ax[2],nx-1,ny-1)\n",
    "\n",
    "plt.show()"
   ]
  },
  {
   "cell_type": "code",
   "execution_count": null,
   "metadata": {},
   "outputs": [],
   "source": [
    "# draw graph\n",
    "G1 = graph(nx-1,ny-1,nl['C'])\n",
    "G2 = graph(nx-1,ny-1,ql['C'])\n",
    "G3 = graph(nx-1,ny-1,gql['C'])\n",
    "\n",
    "f1,g1 = nwkx.bipartite.sets(G1)\n",
    "f2,g2 = nwkx.bipartite.sets(G2)\n",
    "f3,g3 = nwkx.bipartite.sets(G3)"
   ]
  },
  {
   "cell_type": "code",
   "execution_count": null,
   "metadata": {},
   "outputs": [],
   "source": [
    "fig,ax = plt.subplots(1,3,figsize=(15,4))\n",
    "\n",
    "ax[0].set_title('NL')\n",
    "nwkx.draw(G1,pos=nodepos(G1),node_size=25,with_labels=False,width=0.75,ax=ax[0])\n",
    "\n",
    "ax[1].set_title('QL')\n",
    "nwkx.draw(G2,pos=nodepos(G2),node_size=25,with_labels=False,width=0.75,ax=ax[1])\n",
    "\n",
    "ax[2].set_title('GQL(1)')\n",
    "nwkx.draw(G3,pos=nodepos(G3),node_size=25,with_labels=False,width=0.75,ax=ax[2])\n",
    "\n",
    "plt.show()"
   ]
  },
  {
   "cell_type": "markdown",
   "metadata": {},
   "source": [
    "> Hard to see!"
   ]
  },
  {
   "cell_type": "code",
   "execution_count": null,
   "metadata": {},
   "outputs": [],
   "source": [
    "fig,ax = plt.subplots(1,3,figsize=(10,3))\n",
    "\n",
    "vf,hf = degreedist(f1,G1)\n",
    "ax[0].plot(vf,hf,'o-')\n",
    "ax[0].set_title('NL')\n",
    "\n",
    "vf,hf = degreedist(f2,G2)\n",
    "ax[1].plot(vf,hf,'o-')\n",
    "ax[1].set_title('QL')\n",
    "\n",
    "vf,hf = degreedist(f3,G3)\n",
    "ax[2].plot(vf,hf,'o-')\n",
    "ax[2].set_title('GQL(1)')\n",
    "\n",
    "ax[0].set_xlabel('Degree')\n",
    "ax[0].set_ylabel('Number of modes')\n",
    "\n",
    "plt.show()"
   ]
  },
  {
   "cell_type": "markdown",
   "metadata": {},
   "source": [
    "> interesting changes visible through degree distributions"
   ]
  },
  {
   "cell_type": "code",
   "execution_count": null,
   "metadata": {},
   "outputs": [],
   "source": [
    "fig,ax = plt.subplots(1,3,figsize=(10,3))\n",
    "\n",
    "vf,hf = degreedist(g1,G1)\n",
    "ax[0].plot(vf,hf,'o-')\n",
    "ax[0].set_title('NL')\n",
    "\n",
    "vf,hf = degreedist(g2,G2)\n",
    "ax[1].plot(vf,hf,'o-')\n",
    "ax[1].set_title('QL')\n",
    "\n",
    "vf,hf = degreedist(g3,G3)\n",
    "ax[2].plot(vf,hf,'o-')\n",
    "ax[2].set_title('GQL(1)')\n",
    "\n",
    "ax[0].set_xlabel('Degree')\n",
    "ax[0].set_ylabel('Number of triads')\n",
    "\n",
    "plt.show()"
   ]
  },
  {
   "cell_type": "markdown",
   "metadata": {},
   "source": [
    "## 8x8 grids"
   ]
  },
  {
   "cell_type": "code",
   "execution_count": null,
   "metadata": {},
   "outputs": [],
   "source": [
    "nx,ny = 8,8\n",
    "\n",
    "fn = dn+\"adjacency_nl_8x8.npz\"\n",
    "nl = np.load(fn,allow_pickle=True) \n",
    "\n",
    "fn = dn+\"adjacency_ql_8x8.npz\"\n",
    "ql = np.load(fn,allow_pickle=True) \n",
    "\n",
    "fn = dn+\"adjacency_gql1_8x8.npz\"\n",
    "gql = np.load(fn,allow_pickle=True) "
   ]
  },
  {
   "cell_type": "markdown",
   "metadata": {},
   "source": [
    "### Forcing terms"
   ]
  },
  {
   "cell_type": "code",
   "execution_count": null,
   "metadata": {},
   "outputs": [],
   "source": [
    "fig,ax = plt.subplots(1,3,figsize=(14,3))\n",
    "\n",
    "im = ax[0].imshow(np.abs(nl['A']),cmap=\"Reds\",origin=\"lower\",interpolation=\"none\")\n",
    "fig.colorbar(im,ax=ax[0])\n",
    "ax[0].set_title(r'$NL: |A_{mn}|$')\n",
    "ax_adj(ax[0],nx-1,ny-1)\n",
    "\n",
    "im = ax[1].imshow(np.abs(ql['A']),cmap=\"Reds\",origin=\"lower\",interpolation=\"none\")\n",
    "fig.colorbar(im,ax=ax[1])\n",
    "ax[1].set_title(r'QL: $| A_{mn} |$')\n",
    "ax_adj(ax[1],nx-1,ny-1)\n",
    "\n",
    "im = ax[2].imshow(np.abs(gql['A']),cmap=\"Reds\",origin=\"lower\",interpolation=\"none\")\n",
    "fig.colorbar(im,ax=ax[2])\n",
    "ax[2].set_title(r'GQL(1): $| A_{mn} |$')\n",
    "ax_adj(ax[2],nx-1,ny-1)\n",
    "\n",
    "plt.show()"
   ]
  },
  {
   "cell_type": "markdown",
   "metadata": {},
   "source": [
    "### Linear terms"
   ]
  },
  {
   "cell_type": "code",
   "execution_count": null,
   "metadata": {},
   "outputs": [],
   "source": [
    "fig,ax = plt.subplots(1,3,figsize=(14,3))\n",
    "\n",
    "im = ax[0].imshow(np.abs(nl['B']),cmap=\"Reds\",origin=\"lower\",interpolation=\"none\")\n",
    "fig.colorbar(im,ax=ax[0])\n",
    "ax[0].set_title(r'$NL: |B_{mn}|$')\n",
    "ax_adj(ax[0],nx-1,ny-1)\n",
    "\n",
    "im = ax[1].imshow(np.abs(ql['B']),cmap=\"Reds\",origin=\"lower\",interpolation=\"none\")\n",
    "fig.colorbar(im,ax=ax[1])\n",
    "ax[1].set_title(r'QL: $| B_{mn} |$')\n",
    "ax_adj(ax[1],nx-1,ny-1)\n",
    "\n",
    "im = ax[2].imshow(np.abs(gql['B']),cmap=\"Reds\",origin=\"lower\",interpolation=\"none\")\n",
    "fig.colorbar(im,ax=ax[2])\n",
    "ax[2].set_title(r'GQL(1): $| B_{mn} |$')\n",
    "ax_adj(ax[2],nx-1,ny-1)\n",
    "\n",
    "plt.show()"
   ]
  },
  {
   "cell_type": "markdown",
   "metadata": {},
   "source": [
    "### Nonlinear terms"
   ]
  },
  {
   "cell_type": "code",
   "execution_count": null,
   "metadata": {},
   "outputs": [],
   "source": [
    "fig,ax = plt.subplots(1,3,figsize=(14,3))\n",
    "\n",
    "im = ax[0].imshow(np.abs(nl['C']),cmap=\"Reds\",origin=\"lower\",interpolation=\"none\")\n",
    "fig.colorbar(im,ax=ax[0])\n",
    "ax[0].set_title(r'$NL: |C_{mn}|$')\n",
    "ax_adj(ax[0],nx-1,ny-1)\n",
    "\n",
    "im = ax[1].imshow(np.abs(ql['C']),cmap=\"Reds\",origin=\"lower\",interpolation=\"none\")\n",
    "fig.colorbar(im,ax=ax[1])\n",
    "ax[1].set_title(r'QL: $| C_{mn} |$')\n",
    "ax_adj(ax[1],nx-1,ny-1)\n",
    "\n",
    "im = ax[2].imshow(np.abs(gql['C']),cmap=\"Reds\",origin=\"lower\",interpolation=\"none\")\n",
    "fig.colorbar(im,ax=ax[2])\n",
    "ax[2].set_title(r'GQL(1): $| C_{mn} |$')\n",
    "ax_adj(ax[2],nx-1,ny-1)\n",
    "\n",
    "plt.show()"
   ]
  },
  {
   "cell_type": "markdown",
   "metadata": {},
   "source": [
    "## 8x8 Grids (solution-based)"
   ]
  },
  {
   "cell_type": "markdown",
   "metadata": {},
   "source": [
    "#### Single mode forced"
   ]
  },
  {
   "cell_type": "code",
   "execution_count": null,
   "metadata": {},
   "outputs": [],
   "source": [
    "nl_sol = np.load(dn+\"nl_sol_m53_e001_8x8.npz\",allow_pickle=True) \n",
    "nl = np.load(dn+\"nl_adj_m53_e001_8x8.npz\",allow_pickle=True) \n",
    "\n",
    "ql_sol = np.load(dn+\"ql_sol_m53_e001_8x8.npz\",allow_pickle=True) \n",
    "ql = np.load(dn+\"ql_adj_m53_e001_8x8.npz\",allow_pickle=True) \n",
    "\n",
    "gql_sol = np.load(dn+\"gql1_sol_m53_e001_8x8.npz\",allow_pickle=True) \n",
    "gql = np.load(dn+\"gql1_adj_m53_e001_8x8.npz\",allow_pickle=True) "
   ]
  },
  {
   "cell_type": "code",
   "execution_count": null,
   "metadata": {},
   "outputs": [],
   "source": [
    "fig,ax = plt.subplots(1,3,figsize=(13,4))\n",
    "\n",
    "ax[0].set_title('NL')\n",
    "ax[0].plot(nl_sol['t'],nl_sol['Emt'][0],'k',label=0)\n",
    "for i,x in enumerate(nl_sol['Emt'][1:]):\n",
    "    ax[0].plot(nl_sol['t'],x,label=i+1)\n",
    "\n",
    "ax[1].set_title('QL')\n",
    "ax[1].plot(ql_sol['t'],ql_sol['Emt'][0],'k',label=0)\n",
    "for i,x in enumerate(ql_sol['Emt'][1:]):\n",
    "    ax[1].plot(ql_sol['t'],x,label=i+1)\n",
    "\n",
    "ax[2].set_title('GQL(1)')\n",
    "ax[2].plot(gql_sol['t'],gql_sol['Emt'][0],'k',label=0)\n",
    "for i,x in enumerate(gql_sol['Emt'][1:]):\n",
    "    ax[2].plot(gql_sol['t'],x,label=i+1)\n",
    "\n",
    "for a in ax:\n",
    "    a.set_yscale('log')\n",
    "    a.set_ylim(1e-12,1e0)\n",
    "    \n",
    "ax[0].set_ylabel(r'$E_m$')\n",
    "ax[1].legend()\n",
    "plt.show()"
   ]
  },
  {
   "cell_type": "markdown",
   "metadata": {},
   "source": [
    "> shows energy in zonal wavenumbers"
   ]
  },
  {
   "cell_type": "code",
   "execution_count": null,
   "metadata": {},
   "outputs": [],
   "source": [
    "fig,ax = plt.subplots(1,3,figsize=(13,4))\n",
    "\n",
    "ax[0].set_title('NL')\n",
    "ax[0].imshow(nl_sol['F'])\n",
    "\n",
    "ax[1].set_title('QL')\n",
    "ax[1].imshow(ql_sol['F'])\n",
    "\n",
    "ax[2].set_title('GQL(1)')\n",
    "ax[2].imshow(gql_sol['F'])\n",
    "\n",
    "plt.show()"
   ]
  },
  {
   "cell_type": "markdown",
   "metadata": {},
   "source": [
    "> forced modes"
   ]
  },
  {
   "cell_type": "markdown",
   "metadata": {},
   "source": [
    "### Forcing terms"
   ]
  },
  {
   "cell_type": "code",
   "execution_count": null,
   "metadata": {},
   "outputs": [],
   "source": [
    "fig,ax = plt.subplots(1,3,figsize=(14,3))\n",
    "\n",
    "im = ax[0].imshow(np.abs(nl['A']),cmap=\"Reds\",origin=\"lower\",interpolation=\"none\")\n",
    "fig.colorbar(im,ax=ax[0])\n",
    "ax[0].set_title(r'$NL: |A_{mn}|$')\n",
    "ax_adj(ax[0],nx-1,ny-1)\n",
    "\n",
    "im = ax[1].imshow(np.abs(ql['A']),cmap=\"Reds\",origin=\"lower\",interpolation=\"none\")\n",
    "fig.colorbar(im,ax=ax[1])\n",
    "ax[1].set_title(r'QL: $| A_{mn} |$')\n",
    "ax_adj(ax[1],nx-1,ny-1)\n",
    "\n",
    "im = ax[2].imshow(np.abs(gql['A']),cmap=\"Reds\",origin=\"lower\",interpolation=\"none\")\n",
    "fig.colorbar(im,ax=ax[2])\n",
    "ax[2].set_title(r'GQL(1): $| A_{mn} |$')\n",
    "ax_adj(ax[2],nx-1,ny-1)\n",
    "\n",
    "plt.show()"
   ]
  },
  {
   "cell_type": "markdown",
   "metadata": {},
   "source": [
    "> literally one triad"
   ]
  },
  {
   "cell_type": "markdown",
   "metadata": {},
   "source": [
    "### Linear terms"
   ]
  },
  {
   "cell_type": "code",
   "execution_count": null,
   "metadata": {},
   "outputs": [],
   "source": [
    "fig,ax = plt.subplots(1,3,figsize=(14,3))\n",
    "\n",
    "im = ax[0].imshow(np.abs(nl['B']),cmap=\"Reds\",origin=\"lower\",interpolation=\"none\")\n",
    "fig.colorbar(im,ax=ax[0])\n",
    "ax[0].set_title(r'$NL: |B_{mn}|$')\n",
    "ax_adj(ax[0],nx-1,ny-1)\n",
    "\n",
    "im = ax[1].imshow(np.abs(ql['B']),cmap=\"Reds\",origin=\"lower\",interpolation=\"none\")\n",
    "fig.colorbar(im,ax=ax[1])\n",
    "ax[1].set_title(r'QL: $| B_{mn} |$')\n",
    "ax_adj(ax[1],nx-1,ny-1)\n",
    "\n",
    "im = ax[2].imshow(np.abs(gql['B']),cmap=\"Reds\",origin=\"lower\",interpolation=\"none\")\n",
    "fig.colorbar(im,ax=ax[2])\n",
    "ax[2].set_title(r'GQL(1): $| B_{mn} |$')\n",
    "ax_adj(ax[2],nx-1,ny-1)\n",
    "\n",
    "plt.show()"
   ]
  },
  {
   "cell_type": "markdown",
   "metadata": {},
   "source": [
    "> here we can already see the localisation in QL, and non-locality in GQL"
   ]
  },
  {
   "cell_type": "markdown",
   "metadata": {},
   "source": [
    "### Nonlinear terms"
   ]
  },
  {
   "cell_type": "code",
   "execution_count": null,
   "metadata": {},
   "outputs": [],
   "source": [
    "fig,ax = plt.subplots(1,3,figsize=(14,3))\n",
    "\n",
    "im = ax[0].imshow(np.abs(nl['C']),cmap=\"nipy_spectral_r\",origin=\"lower\",interpolation=\"none\")\n",
    "fig.colorbar(im,ax=ax[0])\n",
    "ax[0].set_title(r'$NL: |C_{mn}|$')\n",
    "ax_adj(ax[0],nx-1,ny-1)\n",
    "\n",
    "im = ax[1].imshow(np.abs(ql['C']),cmap=\"nipy_spectral_r\",origin=\"lower\",interpolation=\"none\")\n",
    "fig.colorbar(im,ax=ax[1])\n",
    "ax[1].set_title(r'QL: $| C_{mn} |$')\n",
    "ax_adj(ax[1],nx-1,ny-1)\n",
    "\n",
    "im = ax[2].imshow(np.abs(gql['C']),cmap=\"nipy_spectral_r\",origin=\"lower\",interpolation=\"none\")\n",
    "fig.colorbar(im,ax=ax[2])\n",
    "ax[2].set_title(r'GQL(1): $| C_{mn} |$')\n",
    "ax_adj(ax[2],nx-1,ny-1)\n",
    "\n",
    "plt.show()"
   ]
  },
  {
   "cell_type": "markdown",
   "metadata": {},
   "source": [
    "> GQL supports a whole band, rather than a localised region of triads as in QL"
   ]
  },
  {
   "cell_type": "code",
   "execution_count": null,
   "metadata": {},
   "outputs": [],
   "source": [
    "fig,ax = plt.subplots(1,3,figsize=(14,3))\n",
    "\n",
    "im = ax[0].imshow(np.abs(nl['Cl']),cmap=\"nipy_spectral_r\",origin=\"lower\",interpolation=\"none\")\n",
    "fig.colorbar(im,ax=ax[0])\n",
    "ax[0].set_title(r'$NL: |C_{mn}|$')\n",
    "ax_adj(ax[0],nx-1,ny-1)\n",
    "\n",
    "im = ax[1].imshow(np.abs(ql['Cl']),cmap=\"nipy_spectral_r\",origin=\"lower\",interpolation=\"none\")\n",
    "fig.colorbar(im,ax=ax[1])\n",
    "ax[1].set_title(r'QL: $| C_{mn} |$')\n",
    "ax_adj(ax[1],nx-1,ny-1)\n",
    "\n",
    "im = ax[2].imshow(np.abs(gql['Cl']),cmap=\"nipy_spectral_r\",origin=\"lower\",interpolation=\"none\")\n",
    "fig.colorbar(im,ax=ax[2])\n",
    "ax[2].set_title(r'GQL(1): $| C_{mn} |$')\n",
    "ax_adj(ax[2],nx-1,ny-1)\n",
    "\n",
    "plt.show()"
   ]
  },
  {
   "cell_type": "markdown",
   "metadata": {},
   "source": [
    "> interactions resulting in low modes. Makes a lot of sense - in NL, all interactions lead to low modes as all modes are low modes. In QL only HH interactions lead to low modes (the mean), and in GQL there is a band diagonal of triads where low modes are produced."
   ]
  },
  {
   "cell_type": "code",
   "execution_count": null,
   "metadata": {},
   "outputs": [],
   "source": [
    "fig,ax = plt.subplots(1,3,figsize=(14,3))\n",
    "\n",
    "im = ax[0].imshow(np.abs(nl['Ch']),cmap=\"nipy_spectral_r\",origin=\"lower\",interpolation=\"none\")\n",
    "fig.colorbar(im,ax=ax[0])\n",
    "ax[0].set_title(r'$NL: |C_{mn}|$')\n",
    "ax_adj(ax[0],nx-1,ny-1)\n",
    "\n",
    "im = ax[1].imshow(np.abs(ql['Ch']),cmap=\"nipy_spectral_r\",origin=\"lower\",interpolation=\"none\")\n",
    "fig.colorbar(im,ax=ax[1])\n",
    "ax[1].set_title(r'QL: $| C_{mn} |$')\n",
    "ax_adj(ax[1],nx-1,ny-1)\n",
    "\n",
    "im = ax[2].imshow(np.abs(gql['Ch']),cmap=\"nipy_spectral_r\",origin=\"lower\",interpolation=\"none\")\n",
    "fig.colorbar(im,ax=ax[2])\n",
    "ax[2].set_title(r'GQL(1): $| C_{mn} |$')\n",
    "ax_adj(ax[2],nx-1,ny-1)\n",
    "\n",
    "plt.show()"
   ]
  },
  {
   "cell_type": "markdown",
   "metadata": {},
   "source": [
    "> interactions leading to high modes. Again makes sense because NL has no such interactions. QL involves interactions with the mean (hence along the horizontal). And GQL involves high modes interacting with mean and zonal wavenumber unity."
   ]
  },
  {
   "cell_type": "markdown",
   "metadata": {},
   "source": [
    "#### narrow-band forcing"
   ]
  },
  {
   "cell_type": "code",
   "execution_count": null,
   "metadata": {},
   "outputs": [],
   "source": [
    "nl_sol = np.load(dn+\"nl_sol_e001_8x8.npz\",allow_pickle=True) \n",
    "nl = np.load(dn+\"nl_adj_e001_8x8.npz\",allow_pickle=True) \n",
    "\n",
    "ql_sol = np.load(dn+\"ql_sol_e001_8x8.npz\",allow_pickle=True) \n",
    "ql = np.load(dn+\"ql_adj_e001_8x8.npz\",allow_pickle=True) \n",
    "\n",
    "gql_sol = np.load(dn+\"gql1_sol_e001_8x8.npz\",allow_pickle=True) \n",
    "gql = np.load(dn+\"gql1_adj_e001_8x8.npz\",allow_pickle=True) "
   ]
  },
  {
   "cell_type": "code",
   "execution_count": null,
   "metadata": {},
   "outputs": [],
   "source": [
    "fig,ax = plt.subplots(1,3,figsize=(13,4))\n",
    "\n",
    "ax[0].set_title('NL')\n",
    "ax[0].plot(nl_sol['t'],nl_sol['Emt'][0],'k',label=0)\n",
    "for i,x in enumerate(nl_sol['Emt'][1:]):\n",
    "    ax[0].plot(nl_sol['t'],x,label=i+1)\n",
    "\n",
    "ax[1].set_title('QL')\n",
    "ax[1].plot(ql_sol['t'],ql_sol['Emt'][0],'k',label=0)\n",
    "for i,x in enumerate(ql_sol['Emt'][1:]):\n",
    "    ax[1].plot(ql_sol['t'],x,label=i+1)\n",
    "\n",
    "ax[2].set_title('GQL(1)')\n",
    "ax[2].plot(gql_sol['t'],gql_sol['Emt'][0],'k',label=0)\n",
    "for i,x in enumerate(gql_sol['Emt'][1:]):\n",
    "    ax[2].plot(gql_sol['t'],x,label=i+1)\n",
    "\n",
    "for a in ax:\n",
    "    a.set_yscale('log')\n",
    "    a.set_ylim(1e-12,1e0)\n",
    "    \n",
    "ax[0].set_ylabel(r'$E_m$')\n",
    "ax[1].legend()\n",
    "plt.show()"
   ]
  },
  {
   "cell_type": "markdown",
   "metadata": {},
   "source": [
    "> shows energy in zonal wavenumbers"
   ]
  },
  {
   "cell_type": "code",
   "execution_count": null,
   "metadata": {},
   "outputs": [],
   "source": [
    "fig,ax = plt.subplots(1,3,figsize=(13,4))\n",
    "\n",
    "ax[0].set_title('NL')\n",
    "ax[0].imshow(nl_sol['F'])\n",
    "\n",
    "ax[1].set_title('QL')\n",
    "ax[1].imshow(ql_sol['F'])\n",
    "\n",
    "ax[2].set_title('GQL(1)')\n",
    "ax[2].imshow(gql_sol['F'])\n",
    "\n",
    "plt.show()"
   ]
  },
  {
   "cell_type": "markdown",
   "metadata": {},
   "source": [
    "> forced modes"
   ]
  },
  {
   "cell_type": "markdown",
   "metadata": {},
   "source": [
    "### Forcing terms"
   ]
  },
  {
   "cell_type": "code",
   "execution_count": null,
   "metadata": {},
   "outputs": [],
   "source": [
    "fig,ax = plt.subplots(1,3,figsize=(14,3))\n",
    "\n",
    "im = ax[0].imshow(np.abs(nl['A']),cmap=\"Reds\",origin=\"lower\",interpolation=\"none\")\n",
    "fig.colorbar(im,ax=ax[0])\n",
    "ax[0].set_title(r'$NL: |A_{mn}|$')\n",
    "ax_adj(ax[0],nx-1,ny-1)\n",
    "\n",
    "im = ax[1].imshow(np.abs(ql['A']),cmap=\"Reds\",origin=\"lower\",interpolation=\"none\")\n",
    "fig.colorbar(im,ax=ax[1])\n",
    "ax[1].set_title(r'QL: $| A_{mn} |$')\n",
    "ax_adj(ax[1],nx-1,ny-1)\n",
    "\n",
    "im = ax[2].imshow(np.abs(gql['A']),cmap=\"Reds\",origin=\"lower\",interpolation=\"none\")\n",
    "fig.colorbar(im,ax=ax[2])\n",
    "ax[2].set_title(r'GQL(1): $| A_{mn} |$')\n",
    "ax_adj(ax[2],nx-1,ny-1)\n",
    "\n",
    "plt.show()"
   ]
  },
  {
   "cell_type": "markdown",
   "metadata": {},
   "source": [
    "### Linear terms"
   ]
  },
  {
   "cell_type": "code",
   "execution_count": null,
   "metadata": {},
   "outputs": [],
   "source": [
    "fig,ax = plt.subplots(1,3,figsize=(14,3))\n",
    "\n",
    "im = ax[0].imshow(np.abs(nl['B']),cmap=\"Reds\",origin=\"lower\",interpolation=\"none\")\n",
    "fig.colorbar(im,ax=ax[0])\n",
    "ax[0].set_title(r'$NL: |B_{mn}|$')\n",
    "ax_adj(ax[0],nx-1,ny-1)\n",
    "\n",
    "im = ax[1].imshow(np.abs(ql['B']),cmap=\"Reds\",origin=\"lower\",interpolation=\"none\")\n",
    "fig.colorbar(im,ax=ax[1])\n",
    "ax[1].set_title(r'QL: $| B_{mn} |$')\n",
    "ax_adj(ax[1],nx-1,ny-1)\n",
    "\n",
    "im = ax[2].imshow(np.abs(gql['B']),cmap=\"Reds\",origin=\"lower\",interpolation=\"none\")\n",
    "fig.colorbar(im,ax=ax[2])\n",
    "ax[2].set_title(r'GQL(1): $| B_{mn} |$')\n",
    "ax_adj(ax[2],nx-1,ny-1)\n",
    "\n",
    "plt.show()"
   ]
  },
  {
   "cell_type": "markdown",
   "metadata": {},
   "source": [
    "### Nonlinear terms"
   ]
  },
  {
   "cell_type": "code",
   "execution_count": null,
   "metadata": {},
   "outputs": [],
   "source": [
    "fig,ax = plt.subplots(1,3,figsize=(14,3))\n",
    "\n",
    "im = ax[0].imshow(np.abs(nl['C']),cmap=\"nipy_spectral_r\",origin=\"lower\",interpolation=\"none\")\n",
    "fig.colorbar(im,ax=ax[0])\n",
    "ax[0].set_title(r'$NL: |C_{mn}|$')\n",
    "ax_adj(ax[0],nx-1,ny-1)\n",
    "\n",
    "im = ax[1].imshow(np.abs(ql['C']),cmap=\"nipy_spectral_r\",origin=\"lower\",interpolation=\"none\")\n",
    "fig.colorbar(im,ax=ax[1])\n",
    "ax[1].set_title(r'QL: $| C_{mn} |$')\n",
    "ax_adj(ax[1],nx-1,ny-1)\n",
    "\n",
    "im = ax[2].imshow(np.abs(gql['C']),cmap=\"nipy_spectral_r\",origin=\"lower\",interpolation=\"none\")\n",
    "fig.colorbar(im,ax=ax[2])\n",
    "ax[2].set_title(r'GQL(1): $| C_{mn} |$')\n",
    "ax_adj(ax[2],nx-1,ny-1)\n",
    "\n",
    "plt.show()"
   ]
  },
  {
   "cell_type": "markdown",
   "metadata": {},
   "source": [
    "> this is a band type forcing - forcing all modes wi\"thin a zonal wavenumber"
   ]
  },
  {
   "cell_type": "code",
   "execution_count": null,
   "metadata": {},
   "outputs": [],
   "source": [
    "fig,ax = plt.subplots(1,3,figsize=(14,3))\n",
    "\n",
    "im = ax[0].imshow(np.abs(nl['Cl']),cmap=\"nipy_spectral_r\",origin=\"lower\",interpolation=\"none\")\n",
    "fig.colorbar(im,ax=ax[0])\n",
    "ax[0].set_title(r'$NL: |C_{mn}|$')\n",
    "ax_adj(ax[0],nx-1,ny-1)\n",
    "\n",
    "im = ax[1].imshow(np.abs(ql['Cl']),cmap=\"nipy_spectral_r\",origin=\"lower\",interpolation=\"none\")\n",
    "fig.colorbar(im,ax=ax[1])\n",
    "ax[1].set_title(r'QL: $| C_{mn} |$')\n",
    "ax_adj(ax[1],nx-1,ny-1)\n",
    "\n",
    "im = ax[2].imshow(np.abs(gql['Cl']),cmap=\"nipy_spectral_r\",origin=\"lower\",interpolation=\"none\")\n",
    "fig.colorbar(im,ax=ax[2])\n",
    "ax[2].set_title(r'GQL(1): $| C_{mn} |$')\n",
    "ax_adj(ax[2],nx-1,ny-1)\n",
    "\n",
    "plt.show()"
   ]
  },
  {
   "cell_type": "code",
   "execution_count": null,
   "metadata": {},
   "outputs": [],
   "source": [
    "fig,ax = plt.subplots(1,3,figsize=(14,3))\n",
    "\n",
    "im = ax[0].imshow(np.abs(nl['Ch']),cmap=\"nipy_spectral_r\",origin=\"lower\",interpolation=\"none\")\n",
    "fig.colorbar(im,ax=ax[0])\n",
    "ax[0].set_title(r'$NL: |C_{mn}|$')\n",
    "ax_adj(ax[0],nx-1,ny-1)\n",
    "\n",
    "im = ax[1].imshow(np.abs(ql['Ch']),cmap=\"nipy_spectral_r\",origin=\"lower\",interpolation=\"none\")\n",
    "fig.colorbar(im,ax=ax[1])\n",
    "ax[1].set_title(r'QL: $| C_{mn} |$')\n",
    "ax_adj(ax[1],nx-1,ny-1)\n",
    "\n",
    "im = ax[2].imshow(np.abs(gql['Ch']),cmap=\"nipy_spectral_r\",origin=\"lower\",interpolation=\"none\")\n",
    "fig.colorbar(im,ax=ax[2])\n",
    "ax[2].set_title(r'GQL(1): $| C_{mn} |$')\n",
    "ax_adj(ax[2],nx-1,ny-1)\n",
    "\n",
    "plt.show()"
   ]
  },
  {
   "cell_type": "code",
   "execution_count": null,
   "metadata": {},
   "outputs": [],
   "source": []
  }
 ],
 "metadata": {
  "kernelspec": {
   "display_name": "Python 3",
   "language": "python",
   "name": "python3"
  },
  "language_info": {
   "codemirror_mode": {
    "name": "ipython",
    "version": 3
   },
   "file_extension": ".py",
   "mimetype": "text/x-python",
   "name": "python",
   "nbconvert_exporter": "python",
   "pygments_lexer": "ipython3",
   "version": "3.7.3"
  }
 },
 "nbformat": 4,
 "nbformat_minor": 4
}
