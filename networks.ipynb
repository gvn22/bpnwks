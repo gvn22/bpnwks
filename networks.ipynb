{
 "cells": [
  {
   "cell_type": "markdown",
   "metadata": {},
   "source": [
    "# Network diagrams for NL/GQL"
   ]
  },
  {
   "cell_type": "code",
   "execution_count": null,
   "metadata": {},
   "outputs": [],
   "source": [
    "import matplotlib.pyplot as plt\n",
    "import numpy as np\n",
    "import networkx as nwkx"
   ]
  },
  {
   "cell_type": "markdown",
   "metadata": {},
   "source": [
    "#### Define modes function to get all modes in an nx-ny grid"
   ]
  },
  {
   "cell_type": "code",
   "execution_count": null,
   "metadata": {},
   "outputs": [],
   "source": [
    "def modes(nx,ny):\n",
    "        \n",
    "    i = 0\n",
    "    x = []\n",
    "    for p in np.arange(-nx,nx+1):\n",
    "        for q in np.arange(-ny,ny+1):\n",
    "\n",
    "            x.append((p,q))\n",
    "            i += 1\n",
    "    \n",
    "    return x"
   ]
  },
  {
   "cell_type": "code",
   "execution_count": null,
   "metadata": {},
   "outputs": [],
   "source": [
    "print(modes(1,1))"
   ]
  },
  {
   "cell_type": "markdown",
   "metadata": {},
   "source": [
    "#### Define triads function to get all feasible triads in an nx-ny grid"
   ]
  },
  {
   "cell_type": "code",
   "execution_count": null,
   "metadata": {},
   "outputs": [],
   "source": [
    "def triads(nx,ny):\n",
    "        \n",
    "    x = []\n",
    "    for p in modes(nx,ny):\n",
    "        for q in modes(nx,ny):\n",
    "                        \n",
    "            k = (p[0]+q[0],p[1]+q[1])\n",
    "            \n",
    "            if not(k[0]==0 and k[1]==0) and not(p[0]==0 and p[1]==0) and not(q[0]==0 and q[1]==0): # non-zeros\n",
    "          \n",
    "                if np.abs(k[0])<=nx and np.abs(k[1])<=ny: # remove out of bounds\n",
    "                   \n",
    "                    if p != q and q != k: # no self-interactions\n",
    "                    \n",
    "                        x.append((p,q,k)) # pxq -> k\n",
    "    \n",
    "    return x"
   ]
  },
  {
   "cell_type": "code",
   "execution_count": null,
   "metadata": {
    "scrolled": true
   },
   "outputs": [],
   "source": [
    "print(len(triads(1,1)))"
   ]
  },
  {
   "cell_type": "code",
   "execution_count": null,
   "metadata": {},
   "outputs": [],
   "source": [
    "print(triads(1,1))"
   ]
  },
  {
   "cell_type": "code",
   "execution_count": null,
   "metadata": {},
   "outputs": [],
   "source": [
    "((0,1),(0,-1),(0,0)) in triads(1,1)"
   ]
  },
  {
   "cell_type": "code",
   "execution_count": null,
   "metadata": {},
   "outputs": [],
   "source": [
    "m = modes(1,1)[3]\n",
    "\n",
    "print(\"Looking for mode: \", m)\n",
    "\n",
    "for t in triads(1,1):\n",
    "    if(m in t):\n",
    "        print(\"Present in triad:\", t)"
   ]
  },
  {
   "cell_type": "markdown",
   "metadata": {},
   "source": [
    "#### Edges between modes and triads based on adjacency"
   ]
  },
  {
   "cell_type": "code",
   "execution_count": null,
   "metadata": {},
   "outputs": [],
   "source": [
    "def edges(nx,ny,A):\n",
    "        \n",
    "    m = modes(nx,ny)\n",
    "    \n",
    "    e = []\n",
    "    for t in triads(nx,ny):\n",
    "        \n",
    "        i = m.index(t[0])\n",
    "        j = m.index(t[1])\n",
    "        \n",
    "        if(A[i,j] > 0.0):\n",
    "            e.append((t[0],t))\n",
    "            e.append((t[1],t))\n",
    "            e.append((t[2],t))\n",
    "    \n",
    "    \n",
    "    return e"
   ]
  },
  {
   "cell_type": "code",
   "execution_count": null,
   "metadata": {},
   "outputs": [],
   "source": [
    "A = np.zeros((9,9))\n",
    "A[2,3] = 1.0\n",
    "e = edges(1,1,A)"
   ]
  },
  {
   "cell_type": "code",
   "execution_count": null,
   "metadata": {},
   "outputs": [],
   "source": [
    "print(e)"
   ]
  },
  {
   "cell_type": "markdown",
   "metadata": {},
   "source": [
    "#### Graph based on edge list between modes and triads"
   ]
  },
  {
   "cell_type": "code",
   "execution_count": null,
   "metadata": {},
   "outputs": [],
   "source": [
    "def graph(nx,ny,A):\n",
    "\n",
    "    m = modes(nx,ny)\n",
    "    m.remove((0,0))\n",
    "\n",
    "    t = triads(nx,ny)\n",
    "    e = edges(nx,ny,A)\n",
    "\n",
    "    bpg=nwkx.Graph()\n",
    "\n",
    "    bpg.add_nodes_from(m,bipartite=0)\n",
    "    bpg.add_nodes_from(t,bipartite=1)\n",
    "    bpg.add_edges_from(e)\n",
    "\n",
    "    dl = list(nwkx.connected_components(bpg))[1:]\n",
    "    for d in dl:\n",
    "        for n in d:\n",
    "            bpg.remove_node(n)\n",
    "\n",
    "    return bpg"
   ]
  },
  {
   "cell_type": "markdown",
   "metadata": {},
   "source": [
    "#### Node positions in graph drawing"
   ]
  },
  {
   "cell_type": "code",
   "execution_count": null,
   "metadata": {},
   "outputs": [],
   "source": [
    "def nodepos(G):\n",
    "    \n",
    "    l, r = nwkx.bipartite.sets(G)\n",
    "    pos = {}\n",
    "\n",
    "    pos.update((node, (0, index)) for index, node in enumerate(l))\n",
    "    pos.update((node, (1, index)) for index, node in enumerate(r))\n",
    "\n",
    "    return pos"
   ]
  },
  {
   "cell_type": "markdown",
   "metadata": {},
   "source": [
    "#### Adjacency matrix labels"
   ]
  },
  {
   "cell_type": "code",
   "execution_count": null,
   "metadata": {},
   "outputs": [],
   "source": [
    "def ax_adj(ax,nx,ny):\n",
    "    \n",
    "    l = []\n",
    "    for m in modes(nx,ny):\n",
    "        l.append(str(m))\n",
    "\n",
    "    for a in ax:\n",
    "        a.set_xticks(np.arange(0,(2*nx+1)*(2*ny+1),1))\n",
    "        a.set_yticks(np.arange(0,(2*nx+1)*(2*ny+1),1))\n",
    "        a.set_xticklabels(l,fontsize=14)\n",
    "        a.set_yticklabels(l,fontsize=14)"
   ]
  },
  {
   "cell_type": "markdown",
   "metadata": {},
   "source": [
    "### Draw fully connected bipartite network"
   ]
  },
  {
   "cell_type": "code",
   "execution_count": null,
   "metadata": {},
   "outputs": [],
   "source": [
    "A = np.ones((9,9))\n",
    "G = graph(1,1,A)\n",
    "pos = nodepos(G)\n",
    "\n",
    "fig,ax = plt.subplots(figsize=(7,7))\n",
    "\n",
    "nwkx.draw(G,pos=pos,node_size=25,with_labels=True,width=0.75)\n",
    "\n",
    "plt.show()"
   ]
  },
  {
   "cell_type": "markdown",
   "metadata": {},
   "source": [
    "### Draw bipartite network based on  adjacency for 2x2 grid"
   ]
  },
  {
   "cell_type": "code",
   "execution_count": null,
   "metadata": {},
   "outputs": [],
   "source": [
    "dn = \"data/\""
   ]
  },
  {
   "cell_type": "markdown",
   "metadata": {},
   "source": [
    "#### NL"
   ]
  },
  {
   "cell_type": "code",
   "execution_count": null,
   "metadata": {},
   "outputs": [],
   "source": [
    "fn = dn+\"adjacency_nl_2x2.npz\"\n",
    "nl = np.load(fn,allow_pickle=True) \n",
    "\n",
    "nx = 1\n",
    "ny = 1"
   ]
  },
  {
   "cell_type": "code",
   "execution_count": null,
   "metadata": {},
   "outputs": [],
   "source": [
    "fig,ax = plt.subplots(1,2,figsize=(16,6))\n",
    "\n",
    "im = ax[0].imshow(np.abs(nl['A']),cmap=\"Reds\",origin=\"lower\",interpolation=\"none\")\n",
    "fig.colorbar(im,ax=ax[0])\n",
    "ax[0].set_title(r'$|B_{mn}|$',fontsize=15)\n",
    "\n",
    "im = ax[1].imshow(np.angle(nl['A']),cmap=\"RdBu_r\",origin=\"lower\",interpolation=\"none\")\n",
    "fig.colorbar(im,ax=ax[1])\n",
    "ax[1].set_title(r'$\\angle B_{mn}$',fontsize=15)\n",
    "\n",
    "ax_adj(ax,nx,ny)\n",
    "\n",
    "plt.show()"
   ]
  },
  {
   "cell_type": "code",
   "execution_count": null,
   "metadata": {},
   "outputs": [],
   "source": [
    "fig,ax = plt.subplots(1,2,figsize=(16,6))\n",
    "\n",
    "# abs\n",
    "im = ax[0].imshow(np.abs(nl['C']),cmap=\"nipy_spectral_r\",origin=\"lower\",interpolation=\"none\")\n",
    "\n",
    "ax[0].set_title(r'$|C_{mn}|$',fontsize=15)\n",
    "fig.colorbar(im,ax=ax[0])\n",
    "\n",
    "# angle\n",
    "im = ax[1].imshow(np.angle(nl['C']),cmap=\"RdBu_r\",origin=\"lower\",interpolation=\"none\")\n",
    "\n",
    "ax[1].set_title(r'$\\angle C_{mn}$',fontsize=15)\n",
    "fig.colorbar(im,ax=ax[1])\n",
    "\n",
    "ax_adj(ax,nx,ny)\n",
    "\n",
    "plt.show()"
   ]
  },
  {
   "cell_type": "code",
   "execution_count": null,
   "metadata": {},
   "outputs": [],
   "source": [
    "A = nl['C']\n",
    "\n",
    "G = graph(1,1,A)\n",
    "pos = nodepos(G)\n",
    "\n",
    "fig,ax = plt.subplots(figsize=(7,7))\n",
    "\n",
    "nwkx.draw(G,pos=pos,node_size=25,with_labels=True,width=0.75)\n",
    "\n",
    "plt.show()"
   ]
  },
  {
   "cell_type": "markdown",
   "metadata": {},
   "source": [
    "#### QL"
   ]
  },
  {
   "cell_type": "code",
   "execution_count": null,
   "metadata": {},
   "outputs": [],
   "source": [
    "fn = dn+\"adjacency_ql_2x2.npz\"\n",
    "ql = np.load(fn,allow_pickle=True) \n",
    "\n",
    "nx = 1\n",
    "ny = 1"
   ]
  },
  {
   "cell_type": "code",
   "execution_count": null,
   "metadata": {},
   "outputs": [],
   "source": [
    "fig,ax = plt.subplots(1,2,figsize=(16,6))\n",
    "\n",
    "im = ax[0].imshow(np.abs(ql['A']),cmap=\"Reds\",origin=\"lower\",interpolation=\"none\")\n",
    "fig.colorbar(im,ax=ax[0])\n",
    "ax[0].set_title(r'$|B_{mn}|$',fontsize=15)\n",
    "\n",
    "im = ax[1].imshow(np.angle(ql['A']),cmap=\"RdBu_r\",origin=\"lower\",interpolation=\"none\")\n",
    "fig.colorbar(im,ax=ax[1])\n",
    "ax[1].set_title(r'$\\angle B_{mn}$',fontsize=15)\n",
    "\n",
    "ax_adj(ax,nx,ny)\n",
    "\n",
    "plt.show()"
   ]
  },
  {
   "cell_type": "code",
   "execution_count": null,
   "metadata": {},
   "outputs": [],
   "source": [
    "fig,ax = plt.subplots(1,2,figsize=(16,6))\n",
    "\n",
    "# abs\n",
    "im = ax[0].imshow(np.abs(ql['C']),cmap=\"nipy_spectral_r\",origin=\"lower\",interpolation=\"none\")\n",
    "\n",
    "ax[0].set_title(r'$|C_{mn}|$',fontsize=15)\n",
    "fig.colorbar(im,ax=ax[0])\n",
    "\n",
    "# angle\n",
    "im = ax[1].imshow(np.angle(ql['C']),cmap=\"RdBu_r\",origin=\"lower\",interpolation=\"none\")\n",
    "\n",
    "ax[1].set_title(r'$\\angle C_{mn}$',fontsize=15)\n",
    "fig.colorbar(im,ax=ax[1])\n",
    "\n",
    "ax_adj(ax,nx,ny)\n",
    "\n",
    "plt.show()"
   ]
  },
  {
   "cell_type": "code",
   "execution_count": null,
   "metadata": {},
   "outputs": [],
   "source": [
    "A = ql['C']\n",
    "G = graph(1,1,A)\n",
    "pos = nodepos(G)\n",
    "\n",
    "fig,ax = plt.subplots(figsize=(7,7))\n",
    "\n",
    "nwkx.draw(G,pos=pos,node_size=25,with_labels=True,width=0.75)\n",
    "\n",
    "plt.show()"
   ]
  },
  {
   "cell_type": "markdown",
   "metadata": {},
   "source": [
    "### Draw bipartite network based on  adjacency for 3x3 grid"
   ]
  },
  {
   "cell_type": "code",
   "execution_count": null,
   "metadata": {},
   "outputs": [],
   "source": [
    "fn = dn+\"adjacency_nl_3x3.npz\"\n",
    "nl = np.load(fn,allow_pickle=True) \n",
    "\n",
    "nx = 2\n",
    "ny = 2"
   ]
  },
  {
   "cell_type": "code",
   "execution_count": null,
   "metadata": {},
   "outputs": [],
   "source": [
    "fig,ax = plt.subplots(1,2,figsize=(16,6))\n",
    "\n",
    "# abs\n",
    "im = ax[0].imshow(np.abs(nl['C']),cmap=\"nipy_spectral_r\",origin=\"lower\",interpolation=\"none\")\n",
    "\n",
    "ax[0].set_title(r'$|C_{mn}|$',fontsize=15)\n",
    "fig.colorbar(im,ax=ax[0])\n",
    "\n",
    "# angle\n",
    "im = ax[1].imshow(np.angle(nl['C']),cmap=\"RdBu_r\",origin=\"lower\",interpolation=\"none\")\n",
    "\n",
    "ax[1].set_title(r'$\\angle C_{mn}$',fontsize=15)\n",
    "fig.colorbar(im,ax=ax[1])\n",
    "\n",
    "ax_adj(ax,nx,ny)\n",
    "\n",
    "plt.show()"
   ]
  },
  {
   "cell_type": "code",
   "execution_count": null,
   "metadata": {},
   "outputs": [],
   "source": [
    "A = nl['C'] # test a fully connected graph\n",
    "\n",
    "G = graph(2,2,A)\n",
    "pos = nodepos(G)\n",
    "\n",
    "fig,ax = plt.subplots(figsize=(7,7))\n",
    "\n",
    "nwkx.draw(G,pos=pos,node_size=25,with_labels=False,width=0.75)\n",
    "\n",
    "plt.show()"
   ]
  },
  {
   "cell_type": "code",
   "execution_count": null,
   "metadata": {},
   "outputs": [],
   "source": [
    "fn = dn+\"adjacency_ql_3x3.npz\"\n",
    "ql = np.load(fn,allow_pickle=True) \n",
    "\n",
    "nx = 2\n",
    "ny = 2"
   ]
  },
  {
   "cell_type": "code",
   "execution_count": null,
   "metadata": {},
   "outputs": [],
   "source": [
    "fig,ax = plt.subplots(1,2,figsize=(16,6))\n",
    "\n",
    "# abs\n",
    "im = ax[0].imshow(np.abs(ql['C']),cmap=\"nipy_spectral_r\",origin=\"lower\",interpolation=\"none\")\n",
    "\n",
    "ax[0].set_title(r'$|C_{mn}|$',fontsize=15)\n",
    "fig.colorbar(im,ax=ax[0])\n",
    "\n",
    "# angle\n",
    "im = ax[1].imshow(np.angle(ql['C']),cmap=\"RdBu_r\",origin=\"lower\",interpolation=\"none\")\n",
    "\n",
    "ax[1].set_title(r'$\\angle C_{mn}$',fontsize=15)\n",
    "fig.colorbar(im,ax=ax[1])\n",
    "\n",
    "ax_adj(ax,nx,ny)\n",
    "\n",
    "plt.show()"
   ]
  },
  {
   "cell_type": "code",
   "execution_count": null,
   "metadata": {},
   "outputs": [],
   "source": [
    "A = ql['C'] # test a fully connected graph\n",
    "\n",
    "G = graph(2,2,A)\n",
    "pos = nodepos(G)\n",
    "\n",
    "fig,ax = plt.subplots(figsize=(8,8))\n",
    "\n",
    "nwkx.draw(G,pos=pos,node_size=25,with_labels=False,width=0.75)\n",
    "\n",
    "plt.show()"
   ]
  },
  {
   "cell_type": "code",
   "execution_count": null,
   "metadata": {},
   "outputs": [],
   "source": [
    "fn = dn+\"adjacency_gql2_3x3.npz\"\n",
    "gql = np.load(fn,allow_pickle=True) \n",
    "\n",
    "nx = 2\n",
    "ny = 2"
   ]
  },
  {
   "cell_type": "code",
   "execution_count": null,
   "metadata": {},
   "outputs": [],
   "source": [
    "fig,ax = plt.subplots(1,2,figsize=(16,6))\n",
    "\n",
    "# abs\n",
    "im = ax[0].imshow(np.abs(gql['C']),cmap=\"nipy_spectral_r\",origin=\"lower\",interpolation=\"none\")\n",
    "\n",
    "ax[0].set_title(r'$|C_{mn}|$',fontsize=15)\n",
    "fig.colorbar(im,ax=ax[0])\n",
    "\n",
    "# angle\n",
    "im = ax[1].imshow(np.angle(gql['C']),cmap=\"RdBu_r\",origin=\"lower\",interpolation=\"none\")\n",
    "\n",
    "ax[1].set_title(r'$\\angle C_{mn}$',fontsize=15)\n",
    "fig.colorbar(im,ax=ax[1])\n",
    "\n",
    "ax_adj(ax,nx,ny)\n",
    "\n",
    "plt.show()"
   ]
  },
  {
   "cell_type": "code",
   "execution_count": null,
   "metadata": {},
   "outputs": [],
   "source": [
    "A = gql['C'] # test a fully connected graph\n",
    "\n",
    "G = graph(2,2,A)\n",
    "pos = nodepos(G)\n",
    "\n",
    "fig,ax = plt.subplots(figsize=(8,8))\n",
    "\n",
    "nwkx.draw(G,pos=pos,node_size=25,with_labels=False,width=0.75)\n",
    "\n",
    "plt.show()"
   ]
  }
 ],
 "metadata": {
  "kernelspec": {
   "display_name": "Python 3",
   "language": "python",
   "name": "python3"
  },
  "language_info": {
   "codemirror_mode": {
    "name": "ipython",
    "version": 3
   },
   "file_extension": ".py",
   "mimetype": "text/x-python",
   "name": "python",
   "nbconvert_exporter": "python",
   "pygments_lexer": "ipython3",
   "version": "3.7.3"
  }
 },
 "nbformat": 4,
 "nbformat_minor": 4
}
